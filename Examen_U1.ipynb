{
  "nbformat": 4,
  "nbformat_minor": 0,
  "metadata": {
    "colab": {
      "provenance": [],
      "authorship_tag": "ABX9TyPcEUgDjVPdXcPQTjt0bsZs",
      "include_colab_link": true
    },
    "kernelspec": {
      "name": "python3",
      "display_name": "Python 3"
    },
    "language_info": {
      "name": "python"
    }
  },
  "cells": [
    {
      "cell_type": "markdown",
      "metadata": {
        "id": "view-in-github",
        "colab_type": "text"
      },
      "source": [
        "<a href=\"https://colab.research.google.com/github/danielaAm-hash/Codigos/blob/main/Examen_U1.ipynb\" target=\"_parent\"><img src=\"https://colab.research.google.com/assets/colab-badge.svg\" alt=\"Open In Colab\"/></a>"
      ]
    },
    {
      "cell_type": "code",
      "source": [
        "#Ejercicio 1\n",
        "def es_primo(numero):\n",
        "    if numero < 2:\n",
        "        return False\n",
        "    for i in range(2, int(numero ** 0.5) + 1):\n",
        "        if numero % i == 0:\n",
        "            return False\n",
        "    return True\n",
        "\n",
        "def main():\n",
        "    try:\n",
        "        num = int(input(\"Ingresa un número entero: \"))\n",
        "        if es_primo(num):\n",
        "            print(f\"{num} es un número primo.\")\n",
        "        else:\n",
        "            print(f\"{num} no es un número primo.\")\n",
        "    except ValueError:\n",
        "        print(\"Error: Ingresa un valor entero válido.\")\n",
        "\n",
        "if __name__ == \"__main__\":\n",
        "    main()\n"
      ],
      "metadata": {
        "colab": {
          "base_uri": "https://localhost:8080/"
        },
        "id": "ZY_Lry_C-csJ",
        "outputId": "9164d2cd-a8be-45fa-8fdf-2e4bfe8286ba"
      },
      "execution_count": null,
      "outputs": [
        {
          "output_type": "stream",
          "name": "stdout",
          "text": [
            "Ingresa un número entero: 5\n",
            "5 es un número primo.\n"
          ]
        }
      ]
    },
    {
      "cell_type": "code",
      "source": [
        "#Ejercicio 2\n",
        "def sig_primo(n):\n",
        "    can = n +1\n",
        "    while not primo(can):\n",
        "        can+= 1\n",
        "    return can\n",
        "\n",
        " #El próximo número primo mayor que n\n",
        "def nextPrime(n):\n",
        "    if n <= 1:\n",
        "        return 2\n",
        "    numero = n + 1\n",
        "    while True:\n",
        "        if sig_primo(numero):\n",
        "            return numero\n",
        "        numero += 1\n",
        "\n",
        "def main():\n",
        "    try:\n",
        "        n = int(input(\"Ingrese un número entero: \"))\n",
        "        if n < 0:\n",
        "            print(\"Por favor, ingrese un número entero positivo.\")\n",
        "        else:\n",
        "            siguiente_primo = nextPrime(n)\n",
        "            print(f\"El primer número primo mayor que {n} es {siguiente_primo}.\")\n",
        "    except ValueError:\n",
        "        print(\"Entrada inválida. Por favor, ingrese un número entero.\")\n",
        "\n",
        "if __name__ == \"__main__\":\n",
        "    main()\n"
      ],
      "metadata": {
        "colab": {
          "base_uri": "https://localhost:8080/"
        },
        "id": "v0if5tvFA0DY",
        "outputId": "4ed0da64-354d-4a44-95f8-600ee3f6be33"
      },
      "execution_count": null,
      "outputs": [
        {
          "output_type": "stream",
          "name": "stdout",
          "text": [
            "Ingrese un número entero: 10\n",
            "El primer número primo mayor que 10 es 11.\n"
          ]
        }
      ]
    },
    {
      "cell_type": "code",
      "source": [
        "#Ejercicio 3\n",
        "def mediana(num1, num2, num3):\n",
        "    numeros = [num1, num2, num3]\n",
        "    numeros.sort()\n",
        "    return numeros[1]\n",
        "\n",
        "def main():\n",
        "    try:\n",
        "        num1 = float(input(\"Ingresa el primer número: \"))\n",
        "        num2 = float(input(\"Ingresa el segundo número: \"))\n",
        "        num3 = float(input(\"Ingresa el tercer número: \"))\n",
        "\n",
        "        medianaa = mediana(num1, num2, num3)\n",
        "\n",
        "        print(f\"La mediana de los números es: {medianaa}\")\n",
        "    except ValueError:\n",
        "        print(\"Error: Ingresa valores numéricos válidos.\")\n",
        "\n",
        "if __name__ == \"__main__\":\n",
        "    main()\n",
        "\n",
        "\n",
        "\n",
        "\n",
        "\n"
      ],
      "metadata": {
        "colab": {
          "base_uri": "https://localhost:8080/"
        },
        "id": "WRSWayctB3IT",
        "outputId": "e3a42600-7e10-4585-9b6d-8f0d86e8db3d"
      },
      "execution_count": null,
      "outputs": [
        {
          "output_type": "stream",
          "name": "stdout",
          "text": [
            "Ingresa el primer número: 20\n",
            "Ingresa el segundo número: 40\n",
            "Ingresa el tercer número: 2\n",
            "La mediana de los números es: 20.0\n"
          ]
        }
      ]
    },
    {
      "cell_type": "code",
      "source": [
        "#Ejercicio 4\n",
        "import random\n",
        "\n",
        "def contrasena():\n",
        "    longitud = random.randint(7, 10)\n",
        "    contrasena = ''.join(chr(random.randint(33, 126)) for _ in range(longitud))\n",
        "    return contrasena\n",
        "\n",
        "if __name__ == \"__main__\":\n",
        "    nueva_contra = contrasena()\n",
        "    print(f\"Contraseña generada: {nueva_contra}\")"
      ],
      "metadata": {
        "colab": {
          "base_uri": "https://localhost:8080/"
        },
        "id": "tWSEubnRDPXy",
        "outputId": "aabefa53-265e-49ec-df5a-cff0197557e3"
      },
      "execution_count": null,
      "outputs": [
        {
          "output_type": "stream",
          "name": "stdout",
          "text": [
            "Contraseña generada: R*cp]]gDxx\n"
          ]
        }
      ]
    },
    {
      "cell_type": "code",
      "source": [
        "#Ejercicio 5\n",
        "import math\n",
        "\n",
        "def hipotenusa (lado1, lado2):\n",
        "    return math.sqrt(lado1**2 + lado2**2)\n",
        "\n",
        "def main():\n",
        "    try:\n",
        "        lado1 = float(input(\"Ingresa la longitud del primer lado más corto: \"))\n",
        "        lado2 = float(input(\"Ingresa la longitud del segundo lado más corto: \"))\n",
        "\n",
        "        if lado1 <= 0 or lado2 <= 0:\n",
        "            print(\"Error: Ingresa longitudes válidas mayores que cero.\")\n",
        "        else:\n",
        "            hipo = hipotenusa(lado1, lado2)\n",
        "            print(f\"La longitud de la hipotenusa es: {hipo}\")\n",
        "    except ValueError:\n",
        "        print(\"Error: Ingresa valores numéricos válidos.\")\n",
        "\n",
        "if __name__ == \"__main__\":\n",
        "    main()\n",
        "\n"
      ],
      "metadata": {
        "colab": {
          "base_uri": "https://localhost:8080/"
        },
        "id": "nVAddz4gCdc8",
        "outputId": "42cd80c7-9150-4f85-a9f0-7569599b0a00"
      },
      "execution_count": null,
      "outputs": [
        {
          "output_type": "stream",
          "name": "stdout",
          "text": [
            "Ingresa la longitud del primer lado más corto: 20\n",
            "Ingresa la longitud del segundo lado más corto: 10\n",
            "La longitud de la hipotenusa es: 22.360679774997898\n"
          ]
        }
      ]
    }
  ]
}